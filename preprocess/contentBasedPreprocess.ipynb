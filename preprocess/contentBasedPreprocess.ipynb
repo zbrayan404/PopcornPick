{
  "cells": [
    {
      "cell_type": "code",
      "execution_count": 141,
      "metadata": {
        "id": "C3E_I8fbRYz5"
      },
      "outputs": [],
      "source": [
        "# Import python libraries\n",
        "import pandas as pd\n",
        "import pickle\n",
        "import nltk\n",
        "from nltk.stem import WordNetLemmatizer\n",
        "from nltk.tokenize import word_tokenize\n",
        "from sklearn.metrics.pairwise import cosine_similarity\n",
        "from sklearn.feature_extraction.text import TfidfVectorizer"
      ]
    },
    {
      "cell_type": "code",
      "execution_count": 142,
      "metadata": {
        "id": "AgHNFD1ARkz1"
      },
      "outputs": [],
      "source": [
        "# Load dataset to pandas dataframe\n",
        "movies = pd.read_csv('../datasets/movies_meta.csv')"
      ]
    },
    {
      "cell_type": "markdown",
      "metadata": {
        "id": "EaIpjFgRXtmK"
      },
      "source": [
        "DATA VISUALIZATION"
      ]
    },
    {
      "cell_type": "code",
      "execution_count": 143,
      "metadata": {
        "colab": {
          "base_uri": "https://localhost:8080/",
          "height": 695
        },
        "id": "3btfbW3iYGQF",
        "outputId": "c67e4c8e-7109-49fa-dc57-85075607a1d9"
      },
      "outputs": [],
      "source": [
        "#movies.head(5)"
      ]
    },
    {
      "cell_type": "code",
      "execution_count": 144,
      "metadata": {
        "colab": {
          "base_uri": "https://localhost:8080/"
        },
        "id": "Lq_nszU0YOvk",
        "outputId": "a5753321-0d34-49aa-d195-4489186f12ea"
      },
      "outputs": [],
      "source": [
        "#movies.shape"
      ]
    },
    {
      "cell_type": "code",
      "execution_count": 145,
      "metadata": {
        "colab": {
          "base_uri": "https://localhost:8080/"
        },
        "id": "YdAmFnw-Yj3g",
        "outputId": "4feda3ea-1b22-4f6e-d78c-e37ba19c0334"
      },
      "outputs": [],
      "source": [
        "#movies.info()"
      ]
    },
    {
      "cell_type": "code",
      "execution_count": 146,
      "metadata": {
        "colab": {
          "base_uri": "https://localhost:8080/"
        },
        "id": "3Oa-w0CyV1IS",
        "outputId": "43b05c4d-d27b-45a5-bef9-99ff51c29e73"
      },
      "outputs": [],
      "source": [
        "# Checking the Null\n",
        "#movies.isnull().sum()"
      ]
    },
    {
      "cell_type": "code",
      "execution_count": 147,
      "metadata": {
        "id": "57FqUAwebTqg"
      },
      "outputs": [],
      "source": [
        "# Deleting all the duplicated rows\n",
        "movies.drop_duplicates(inplace=True)"
      ]
    },
    {
      "cell_type": "code",
      "execution_count": 148,
      "metadata": {
        "colab": {
          "base_uri": "https://localhost:8080/"
        },
        "id": "nrrNaeABPW_R",
        "outputId": "a4cba4e7-a7c4-4539-bc64-7ea6671b04dd"
      },
      "outputs": [],
      "source": [
        "# Number of repeated movies\n",
        "#movies[['title','release_date']].duplicated().sum()"
      ]
    },
    {
      "cell_type": "code",
      "execution_count": 149,
      "metadata": {
        "id": "jot5RkRTPAK5"
      },
      "outputs": [],
      "source": [
        "# Ignore repeated movies\n",
        "movies.drop_duplicates(subset=['title','release_date'],inplace=True)"
      ]
    },
    {
      "cell_type": "code",
      "execution_count": 150,
      "metadata": {
        "colab": {
          "base_uri": "https://localhost:8080/"
        },
        "id": "ECxYpqYZbxGD",
        "outputId": "4452e061-99c4-4b48-e5c6-e56998aaa425"
      },
      "outputs": [],
      "source": [
        "# Genres, Overviews, Credits, and Keywords as the key predict, fill up the null value\n",
        "movies['genres'] = movies['genres'].fillna('')\n",
        "movies['overview'] = movies['overview'].fillna('')\n",
        "movies['credits'] = movies['credits'].fillna('')\n",
        "movies['production_companies'] = movies['production_companies'].fillna('')\n",
        "movies['keywords'] = movies['keywords'].fillna('')\n",
        "movies['tagline'] = movies['tagline'].fillna('')\n",
        "\n",
        "# Drop rows with all the columns needed\n",
        "null_value = movies[(movies['genres']=='') & (movies['overview']=='') & (movies['credits']=='') & (movies['keywords']=='')].index\n",
        "movies.drop(null_value,inplace=True)\n",
        "\n",
        "# Drop rows with all the columns with no genres\n",
        "null_value = movies[(movies['genres']=='')].index\n",
        "movies.drop(null_value, inplace=True)\n",
        "\n",
        "# Drop rows with all the columns with no overview\n",
        "null_value = movies[(movies['overview']=='')].index\n",
        "movies.drop(null_value, inplace=True)\n",
        "\n",
        "null_value = movies[(movies['release_date'].isnull()) & (movies['status'] =='Released')].index\n",
        "movies.drop(null_value, inplace=True)\n",
        "\n",
        "# No duplication\n",
        "#movies.isnull().sum()"
      ]
    },
    {
      "cell_type": "code",
      "execution_count": 151,
      "metadata": {
        "id": "LZDKhqIgP0JR"
      },
      "outputs": [],
      "source": [
        "# Remove '-' from each column in the dataframe.\n",
        "# Genres\n",
        "movies['genres'] = movies['genres'].str.replace(' ', '')\n",
        "movies['genres'] = movies['genres'].str.replace('-', ' ')\n",
        "# Credits\n",
        "movies['credits'] = movies['credits'].str.replace(' ', '')\n",
        "movies['credits'] = movies['credits'].str.replace('-', ' ')\n",
        "# Production Companies\n",
        "movies['production_companies'] = movies['production_companies'].str.replace(' ', '')\n",
        "movies['production_companies'] = movies['production_companies'].str.replace('-', ' ')\n",
        "# Overview and Keywords\n",
        "movies['overview']= movies['overview'].str.replace('-', ' ')\n",
        "movies['keywords'] = movies['keywords'].str.replace('-', ' ')\n"
      ]
    },
    {
      "cell_type": "code",
      "execution_count": 152,
      "metadata": {
        "colab": {
          "base_uri": "https://localhost:8080/"
        },
        "id": "zsZSKuuuWf4c",
        "outputId": "d1bc23b3-ba22-403f-99ec-df2bbe7ffdda"
      },
      "outputs": [],
      "source": [
        "# Select the key columns that'll be used while building the model\n",
        "\n",
        "movies['tags'] = movies['genres'].copy() + \" \" + movies['overview'].copy() + \" \" + movies['credits'].copy() + \" \" + movies['keywords'].copy() + \" \" +  movies['production_companies'].copy() + \" \" + movies['tagline'].copy()\n",
        "\n",
        "movies['tags'] = movies['tags'].str.replace('[^\\\\w\\\\s]','')\n"
      ]
    },
    {
      "cell_type": "code",
      "execution_count": 153,
      "metadata": {
        "colab": {
          "base_uri": "https://localhost:8080/",
          "height": 672
        },
        "id": "q-i4JYQxQ4ys",
        "outputId": "49030f11-f289-4fb5-f7f0-ea0f4c055e08"
      },
      "outputs": [],
      "source": [
        "#movies.head(5)"
      ]
    },
    {
      "cell_type": "code",
      "execution_count": 154,
      "metadata": {
        "colab": {
          "base_uri": "https://localhost:8080/",
          "height": 206
        },
        "id": "cEb6SjCpfe2b",
        "outputId": "273fd55b-052f-47fe-c675-286c0544df4d"
      },
      "outputs": [],
      "source": [
        "#movies.info()"
      ]
    },
    {
      "cell_type": "code",
      "execution_count": 155,
      "metadata": {
        "colab": {
          "base_uri": "https://localhost:8080/"
        },
        "id": "iHEuCUeclWbd",
        "outputId": "266097e5-bc70-43ef-a8f9-d49a9f385f4d"
      },
      "outputs": [
        {
          "name": "stderr",
          "output_type": "stream",
          "text": [
            "[nltk_data] Downloading package punkt_tab to\n",
            "[nltk_data]     C:\\Users\\zaval/nltk_data...\n",
            "[nltk_data]   Package punkt_tab is already up-to-date!\n",
            "[nltk_data] Downloading package wordnet to C:\\Users\\zaval/nltk_data...\n",
            "[nltk_data]   Package wordnet is already up-to-date!\n",
            "[nltk_data] Downloading package omw-1.4 to C:\\Users\\zaval/nltk_data...\n",
            "[nltk_data]   Package omw-1.4 is already up-to-date!\n"
          ]
        }
      ],
      "source": [
        "nltk.download('punkt_tab')\n",
        "nltk.download(\"wordnet\")\n",
        "nltk.download(\"omw-1.4\")\n",
        "\n",
        "# Initialize wordnet lemmatizer\n",
        "wnl = WordNetLemmatizer()\n",
        "\n",
        "def lemm(text):\n",
        "    # Tokenize and lemmatize each word with POS \"verb\"\n",
        "    new_text = []\n",
        "    for word in word_tokenize(text):  # Tokenize the text\n",
        "        new_text.append(wnl.lemmatize(word, pos=\"v\"))  # Lemmatize each word\n",
        "\n",
        "    return \" \".join(new_text)"
      ]
    },
    {
      "cell_type": "code",
      "execution_count": 156,
      "metadata": {
        "id": "rZRZGhkXncYT"
      },
      "outputs": [],
      "source": [
        "print(\"Running... (may take a couple of minutes)\")\n",
        "movies['tags'] = movies['tags'].apply(lemm)"
      ]
    },
    {
      "cell_type": "code",
      "execution_count": 157,
      "metadata": {},
      "outputs": [],
      "source": [
        "# Clean 'vote_count' column by replacing empty strings with 0\n",
        "movies['vote_count'] = movies['vote_count'].replace('', 0).astype(int)\n",
        "\n",
        "# Filter movies with vote_count more than or equal to 150\n",
        "movies = movies[movies['vote_count'] >= 150].reset_index()\n",
        "\n",
        "# Filter movies with vote_average more than or equal to 4.5\n",
        "movies = movies[movies['vote_average'] >= 4.5].reset_index()"
      ]
    },
    {
      "cell_type": "code",
      "execution_count": 158,
      "metadata": {
        "colab": {
          "base_uri": "https://localhost:8080/",
          "height": 206
        },
        "id": "5sT34g8knvhn",
        "outputId": "1c78f3b6-98ac-4c2a-81eb-c2161c13cf07"
      },
      "outputs": [
        {
          "data": {
            "text/html": [
              "<div>\n",
              "<style scoped>\n",
              "    .dataframe tbody tr th:only-of-type {\n",
              "        vertical-align: middle;\n",
              "    }\n",
              "\n",
              "    .dataframe tbody tr th {\n",
              "        vertical-align: top;\n",
              "    }\n",
              "\n",
              "    .dataframe thead th {\n",
              "        text-align: right;\n",
              "    }\n",
              "</style>\n",
              "<table border=\"1\" class=\"dataframe\">\n",
              "  <thead>\n",
              "    <tr style=\"text-align: right;\">\n",
              "      <th></th>\n",
              "      <th>id</th>\n",
              "      <th>title</th>\n",
              "      <th>tags</th>\n",
              "      <th>poster_path</th>\n",
              "      <th>release_date</th>\n",
              "    </tr>\n",
              "  </thead>\n",
              "  <tbody>\n",
              "    <tr>\n",
              "      <th>0</th>\n",
              "      <td>615656</td>\n",
              "      <td>Meg 2: The Trench</td>\n",
              "      <td>Action ScienceFiction Horror An exploratory di...</td>\n",
              "      <td>/4m1Au3YkjqsxF8iwQy0fPYSxE0h.jpg</td>\n",
              "      <td>2023-08-02</td>\n",
              "    </tr>\n",
              "    <tr>\n",
              "      <th>1</th>\n",
              "      <td>758323</td>\n",
              "      <td>The Pope's Exorcist</td>\n",
              "      <td>Horror Mystery Thriller Father Gabriele Amorth...</td>\n",
              "      <td>/9JBEPLTPSm0d1mbEcLxULjJq9Eh.jpg</td>\n",
              "      <td>2023-04-05</td>\n",
              "    </tr>\n",
              "    <tr>\n",
              "      <th>2</th>\n",
              "      <td>533535</td>\n",
              "      <td>Deadpool &amp; Wolverine</td>\n",
              "      <td>Action Comedy ScienceFiction A listless Wade W...</td>\n",
              "      <td>/8cdWjvZQUExUUTzyp4t6EDMubfO.jpg</td>\n",
              "      <td>2024-07-24</td>\n",
              "    </tr>\n",
              "    <tr>\n",
              "      <th>3</th>\n",
              "      <td>667538</td>\n",
              "      <td>Transformers: Rise of the Beasts</td>\n",
              "      <td>Action Adventure ScienceFiction When a new thr...</td>\n",
              "      <td>/gPbM0MK8CP8A174rmUwGsADNYKD.jpg</td>\n",
              "      <td>2023-06-06</td>\n",
              "    </tr>\n",
              "    <tr>\n",
              "      <th>4</th>\n",
              "      <td>693134</td>\n",
              "      <td>Dune: Part Two</td>\n",
              "      <td>ScienceFiction Adventure Follow the mythic jou...</td>\n",
              "      <td>/czembW0Rk1Ke7lCJGahbOhdCuhV.jpg</td>\n",
              "      <td>2024-02-27</td>\n",
              "    </tr>\n",
              "  </tbody>\n",
              "</table>\n",
              "</div>"
            ],
            "text/plain": [
              "       id                             title  \\\n",
              "0  615656                 Meg 2: The Trench   \n",
              "1  758323               The Pope's Exorcist   \n",
              "2  533535              Deadpool & Wolverine   \n",
              "3  667538  Transformers: Rise of the Beasts   \n",
              "4  693134                    Dune: Part Two   \n",
              "\n",
              "                                                tags  \\\n",
              "0  Action ScienceFiction Horror An exploratory di...   \n",
              "1  Horror Mystery Thriller Father Gabriele Amorth...   \n",
              "2  Action Comedy ScienceFiction A listless Wade W...   \n",
              "3  Action Adventure ScienceFiction When a new thr...   \n",
              "4  ScienceFiction Adventure Follow the mythic jou...   \n",
              "\n",
              "                        poster_path release_date  \n",
              "0  /4m1Au3YkjqsxF8iwQy0fPYSxE0h.jpg   2023-08-02  \n",
              "1  /9JBEPLTPSm0d1mbEcLxULjJq9Eh.jpg   2023-04-05  \n",
              "2  /8cdWjvZQUExUUTzyp4t6EDMubfO.jpg   2024-07-24  \n",
              "3  /gPbM0MK8CP8A174rmUwGsADNYKD.jpg   2023-06-06  \n",
              "4  /czembW0Rk1Ke7lCJGahbOhdCuhV.jpg   2024-02-27  "
            ]
          },
          "execution_count": 158,
          "metadata": {},
          "output_type": "execute_result"
        }
      ],
      "source": [
        "movies_copy = pd.DataFrame()\n",
        "\n",
        "movies_copy['id'] = movies['id'].copy()\n",
        "movies_copy['title'] = movies['title'].copy()\n",
        "movies_copy['tags'] = movies['tags'].copy()\n",
        "movies_copy['poster_path'] = movies['poster_path'].copy()\n",
        "movies_copy['release_date'] = movies['release_date'].copy()\n",
        "\n",
        "#movies_copy.head(5)"
      ]
    },
    {
      "cell_type": "code",
      "execution_count": 159,
      "metadata": {
        "colab": {
          "base_uri": "https://localhost:8080/"
        },
        "id": "1B8HQxYMrs-r",
        "outputId": "88c09bd4-b05d-4df1-e761-085571cd3286"
      },
      "outputs": [],
      "source": [
        "#movies_copy.shape"
      ]
    },
    {
      "cell_type": "code",
      "execution_count": 160,
      "metadata": {
        "id": "5l-ktJaO5cCN"
      },
      "outputs": [],
      "source": [
        "# Create a TfidfVectorizer object to transform the movie tags into a Tf-idf representation\n",
        "tfidf = TfidfVectorizer(stop_words='english')\n",
        "tfidf_matrix = tfidf.fit_transform(movies_copy['tags'])"
      ]
    },
    {
      "cell_type": "code",
      "execution_count": 161,
      "metadata": {
        "id": "H0CIrEHG5tqn"
      },
      "outputs": [],
      "source": [
        "# Calculate the cosine similarity matrix between the movies\n",
        "cosine_similarity = cosine_similarity(tfidf_matrix)"
      ]
    },
    {
      "cell_type": "code",
      "execution_count": 162,
      "metadata": {
        "id": "E7q2j8DT55Kq"
      },
      "outputs": [],
      "source": [
        "# Create a dataframe with the cosine similarity scores\n",
        "similarity = pd.DataFrame(cosine_similarity, index=movies_copy['id'], columns=movies_copy['id'])"
      ]
    },
    {
      "cell_type": "code",
      "execution_count": 163,
      "metadata": {
        "id": "q1pgE0U0_qYk"
      },
      "outputs": [],
      "source": [
        "# Take the pickle dump of the results for later use\n",
        "\n",
        "pickle.dump(movies_copy,open('../pickle/movies_meta.pkl','wb'))\n",
        "pickle.dump(tfidf,open('../pickle/tfidf_model.pkl','wb'))\n",
        "pickle.dump(tfidf_matrix,open('../pickle/tfidf_matrix.pkl','wb'))\n",
        "pickle.dump(similarity,open('../pickle/similarity.pkl','wb'))\n",
        "\n",
        "print(\"Done\")"
      ]
    }
  ],
  "metadata": {
    "colab": {
      "provenance": []
    },
    "kernelspec": {
      "display_name": "Python 3",
      "name": "python3"
    },
    "language_info": {
      "codemirror_mode": {
        "name": "ipython",
        "version": 3
      },
      "file_extension": ".py",
      "mimetype": "text/x-python",
      "name": "python",
      "nbconvert_exporter": "python",
      "pygments_lexer": "ipython3",
      "version": "3.11.9"
    }
  },
  "nbformat": 4,
  "nbformat_minor": 0
}
