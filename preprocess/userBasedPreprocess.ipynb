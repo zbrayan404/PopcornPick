{
  "cells": [
    {
      "cell_type": "code",
      "execution_count": 223,
      "metadata": {
        "id": "qszfdoCpskdZ"
      },
      "outputs": [],
      "source": [
        "from fuzzywuzzy import process, fuzz\n",
        "import numpy  as np\n",
        "import pandas as pd\n",
        "import pickle\n",
        "import re"
      ]
    },
    {
      "cell_type": "code",
      "execution_count": 224,
      "metadata": {
        "id": "VZynKACOskde"
      },
      "outputs": [],
      "source": [
        "users_rating = pd.read_csv('../datasets/rating.csv')\n",
        "\n",
        "movies = pd.read_csv('../datasets/movie.csv')"
      ]
    },
    {
      "cell_type": "code",
      "execution_count": 225,
      "metadata": {
        "colab": {
          "base_uri": "https://localhost:8080/"
        },
        "id": "fuSnwOzVbaaa",
        "outputId": "683a5122-f6f3-4ba9-e0d5-de548d1609ef"
      },
      "outputs": [
        {
          "name": "stdout",
          "output_type": "stream",
          "text": [
            "<class 'pandas.core.frame.DataFrame'>\n",
            "RangeIndex: 27278 entries, 0 to 27277\n",
            "Data columns (total 3 columns):\n",
            " #   Column   Non-Null Count  Dtype \n",
            "---  ------   --------------  ----- \n",
            " 0   movieId  27278 non-null  int64 \n",
            " 1   title    27278 non-null  object\n",
            " 2   genres   27278 non-null  object\n",
            "dtypes: int64(1), object(2)\n",
            "memory usage: 639.5+ KB\n"
          ]
        }
      ],
      "source": [
        "#movies.info()"
      ]
    },
    {
      "cell_type": "code",
      "execution_count": 226,
      "metadata": {
        "colab": {
          "base_uri": "https://localhost:8080/"
        },
        "id": "5fW-ckAibdtl",
        "outputId": "f050c459-6afc-4af3-8d86-8728ce1bd6e8"
      },
      "outputs": [
        {
          "name": "stdout",
          "output_type": "stream",
          "text": [
            "<class 'pandas.core.frame.DataFrame'>\n",
            "RangeIndex: 20000263 entries, 0 to 20000262\n",
            "Data columns (total 4 columns):\n",
            " #   Column     Dtype  \n",
            "---  ------     -----  \n",
            " 0   userId     int64  \n",
            " 1   movieId    int64  \n",
            " 2   rating     float64\n",
            " 3   timestamp  object \n",
            "dtypes: float64(1), int64(2), object(1)\n",
            "memory usage: 610.4+ MB\n"
          ]
        }
      ],
      "source": [
        "#users_rating.info()"
      ]
    },
    {
      "cell_type": "code",
      "execution_count": 227,
      "metadata": {
        "colab": {
          "base_uri": "https://localhost:8080/"
        },
        "id": "qjuP-ecbGNtR",
        "outputId": "54271f98-e802-4d5d-b52a-bcba19c50dfe"
      },
      "outputs": [
        {
          "data": {
            "text/plain": [
              "movieId    0\n",
              "title      0\n",
              "genres     0\n",
              "dtype: int64"
            ]
          },
          "execution_count": 227,
          "metadata": {},
          "output_type": "execute_result"
        }
      ],
      "source": [
        "#movies.isnull().sum()"
      ]
    },
    {
      "cell_type": "code",
      "execution_count": 228,
      "metadata": {
        "colab": {
          "base_uri": "https://localhost:8080/"
        },
        "id": "iYf4NH1Vskdf",
        "outputId": "6a75e9d1-76a5-4cbb-9ca4-5811f9bcc7c1"
      },
      "outputs": [],
      "source": [
        "# Extract year and create a new column\n",
        "movies['year'] = movies['title'].str.extract(r'\\((\\d{4})\\)')\n",
        "\n",
        "# Remove year from 'titles' column\n",
        "movies['title'] = movies['title'].str.replace(r'\\(\\d{4}\\)', '').str.strip()"
      ]
    },
    {
      "cell_type": "code",
      "execution_count": 229,
      "metadata": {
        "colab": {
          "base_uri": "https://localhost:8080/"
        },
        "id": "cEuy0mBqskdg",
        "outputId": "0434a690-0e00-46af-8080-cf98a0f0b536"
      },
      "outputs": [
        {
          "data": {
            "text/plain": [
              "movieId     0\n",
              "title       0\n",
              "genres      0\n",
              "year       22\n",
              "dtype: int64"
            ]
          },
          "execution_count": 229,
          "metadata": {},
          "output_type": "execute_result"
        }
      ],
      "source": [
        "#movies.isnull().sum()"
      ]
    },
    {
      "cell_type": "code",
      "execution_count": 230,
      "metadata": {
        "id": "ezEj3SJmU60g"
      },
      "outputs": [],
      "source": [
        "movies['year'] = movies['year'].fillna('')\n",
        "null_id = movies[movies['year'] == '']['movieId'].tolist()\n",
        "null_index = movies[movies['movieId'].isin(null_id)].index\n",
        "user_index = users_rating[users_rating['movieId'].isin(null_id)].index\n",
        "\n",
        "movies.drop(null_index, inplace=True)\n",
        "users_rating.drop(user_index, inplace=True)\n",
        "\n",
        "\n",
        "movies.reset_index(drop=True, inplace=True)\n",
        "users_rating.reset_index(drop=True, inplace=True)\n"
      ]
    },
    {
      "cell_type": "code",
      "execution_count": 231,
      "metadata": {
        "colab": {
          "base_uri": "https://localhost:8080/"
        },
        "id": "vyRFSpNcXxm8",
        "outputId": "d47103c8-09cf-4352-db33-0d5715c55e2c"
      },
      "outputs": [
        {
          "data": {
            "text/plain": [
              "movieId    0\n",
              "title      0\n",
              "genres     0\n",
              "year       0\n",
              "dtype: int64"
            ]
          },
          "execution_count": 231,
          "metadata": {},
          "output_type": "execute_result"
        }
      ],
      "source": [
        "#movies.isnull().sum()"
      ]
    },
    {
      "cell_type": "code",
      "execution_count": 232,
      "metadata": {
        "colab": {
          "base_uri": "https://localhost:8080/"
        },
        "id": "ctv-Yk49Ji7x",
        "outputId": "bb1a7bb0-83e3-4cca-c1a5-39289497f592"
      },
      "outputs": [
        {
          "data": {
            "text/plain": [
              "16"
            ]
          },
          "execution_count": 232,
          "metadata": {},
          "output_type": "execute_result"
        }
      ],
      "source": [
        "#movies[['title', 'year']].duplicated().sum()"
      ]
    },
    {
      "cell_type": "code",
      "execution_count": 233,
      "metadata": {
        "id": "K-A0ygAwNuy6"
      },
      "outputs": [],
      "source": [
        "duplicated_rows = movies[movies.duplicated(['title', 'year'], keep=False)]\n",
        "duplicated_id = duplicated_rows['movieId'].tolist()\n",
        "duplicated_index = movies[movies['movieId'].isin(duplicated_id)].index\n",
        "user_index = users_rating[users_rating['movieId'].isin(duplicated_id)].index\n",
        "\n",
        "\n",
        "movies.drop(duplicated_index, inplace=True)\n",
        "users_rating.drop(user_index, inplace=True)\n",
        "\n",
        "movies.reset_index(drop=True, inplace=True)\n",
        "users_rating.reset_index(drop=True, inplace=True)\n",
        "\n"
      ]
    },
    {
      "cell_type": "code",
      "execution_count": 234,
      "metadata": {
        "colab": {
          "base_uri": "https://localhost:8080/"
        },
        "id": "9RBh0UDVOWcW",
        "outputId": "72f72d5b-3f8a-41b1-a758-bd187ec6597c"
      },
      "outputs": [
        {
          "data": {
            "text/plain": [
              "0"
            ]
          },
          "execution_count": 234,
          "metadata": {},
          "output_type": "execute_result"
        }
      ],
      "source": [
        "#movies[['title', 'year']].duplicated().sum()"
      ]
    },
    {
      "cell_type": "code",
      "execution_count": 235,
      "metadata": {
        "colab": {
          "base_uri": "https://localhost:8080/"
        },
        "id": "7G8vSTy6L_IL",
        "outputId": "bcb316d6-d174-4ec1-aea4-5eb147b3b38b"
      },
      "outputs": [
        {
          "name": "stdout",
          "output_type": "stream",
          "text": [
            "<class 'pandas.core.frame.DataFrame'>\n",
            "RangeIndex: 27224 entries, 0 to 27223\n",
            "Data columns (total 4 columns):\n",
            " #   Column   Non-Null Count  Dtype \n",
            "---  ------   --------------  ----- \n",
            " 0   movieId  27224 non-null  int64 \n",
            " 1   title    27224 non-null  object\n",
            " 2   genres   27224 non-null  object\n",
            " 3   year     27224 non-null  object\n",
            "dtypes: int64(1), object(3)\n",
            "memory usage: 850.9+ KB\n"
          ]
        }
      ],
      "source": [
        "#movies.info()"
      ]
    },
    {
      "cell_type": "code",
      "execution_count": 236,
      "metadata": {
        "colab": {
          "base_uri": "https://localhost:8080/"
        },
        "id": "oUvh4aMAbvhv",
        "outputId": "e7474426-eeb6-4145-ac11-f6f8e3b837c4"
      },
      "outputs": [
        {
          "name": "stdout",
          "output_type": "stream",
          "text": [
            "<class 'pandas.core.frame.DataFrame'>\n",
            "RangeIndex: 19940198 entries, 0 to 19940197\n",
            "Data columns (total 4 columns):\n",
            " #   Column     Dtype  \n",
            "---  ------     -----  \n",
            " 0   userId     int64  \n",
            " 1   movieId    int64  \n",
            " 2   rating     float64\n",
            " 3   timestamp  object \n",
            "dtypes: float64(1), int64(2), object(1)\n",
            "memory usage: 608.5+ MB\n"
          ]
        }
      ],
      "source": [
        "#users_rating.info()"
      ]
    },
    {
      "cell_type": "code",
      "execution_count": 237,
      "metadata": {
        "colab": {
          "base_uri": "https://localhost:8080/"
        },
        "id": "9kL3McjChQtS",
        "outputId": "b06a6d2c-dd8d-4fa7-f932-d8f87a627126"
      },
      "outputs": [
        {
          "data": {
            "text/plain": [
              "0"
            ]
          },
          "execution_count": 237,
          "metadata": {},
          "output_type": "execute_result"
        }
      ],
      "source": [
        "movies['movieId'].duplicated().sum()"
      ]
    },
    {
      "cell_type": "code",
      "execution_count": 238,
      "metadata": {
        "id": "NlRf3X-Qo4xj"
      },
      "outputs": [],
      "source": [
        "agg_ratings = users_rating.groupby('movieId').agg(mean_rating = ('rating', 'mean'), number_of_ratings = ('rating', 'count')).reset_index()\n",
        "\n",
        "movies_rating = pd.merge(movies, agg_ratings, on='movieId', how='inner')\n",
        "\n",
        "movies_over90 = movies_rating[movies_rating['number_of_ratings'] <= 90]\n",
        "\n",
        "movies_id = movies_over90['movieId'].tolist()\n",
        "\n",
        "movies_index = movies_rating[movies_rating['movieId'].isin(movies_id)].index\n",
        "movie_index = movies[movies['movieId'].isin(movies_id)].index\n",
        "users_index = users_rating[users_rating['movieId'].isin(movies_id)].index\n",
        "\n",
        "movies.drop(movie_index, inplace=True)\n",
        "movies_rating.drop(movies_index, inplace=True)\n",
        "users_rating.drop(users_index, inplace=True)\n",
        "\n",
        "movies.reset_index(drop=True, inplace=True)\n",
        "movies_rating.reset_index(drop=True, inplace=True)\n",
        "users_rating.reset_index(drop=True, inplace=True)\n"
      ]
    },
    {
      "cell_type": "code",
      "execution_count": 239,
      "metadata": {
        "colab": {
          "base_uri": "https://localhost:8080/"
        },
        "id": "JGOEi1uBpjHr",
        "outputId": "1da38c38-c2d8-41fe-f7c8-9110924c17f8"
      },
      "outputs": [
        {
          "name": "stdout",
          "output_type": "stream",
          "text": [
            "<class 'pandas.core.frame.DataFrame'>\n",
            "RangeIndex: 19671075 entries, 0 to 19671074\n",
            "Data columns (total 4 columns):\n",
            " #   Column     Dtype  \n",
            "---  ------     -----  \n",
            " 0   userId     int64  \n",
            " 1   movieId    int64  \n",
            " 2   rating     float64\n",
            " 3   timestamp  object \n",
            "dtypes: float64(1), int64(2), object(1)\n",
            "memory usage: 600.3+ MB\n"
          ]
        }
      ],
      "source": [
        "#users_rating.info()"
      ]
    },
    {
      "cell_type": "code",
      "execution_count": 240,
      "metadata": {
        "colab": {
          "base_uri": "https://localhost:8080/"
        },
        "id": "O_8f7npKe33k",
        "outputId": "b0b38733-edb7-4561-995d-cf7006a1ffca"
      },
      "outputs": [
        {
          "name": "stdout",
          "output_type": "stream",
          "text": [
            "<class 'pandas.core.frame.DataFrame'>\n",
            "RangeIndex: 9327 entries, 0 to 9326\n",
            "Data columns (total 4 columns):\n",
            " #   Column   Non-Null Count  Dtype \n",
            "---  ------   --------------  ----- \n",
            " 0   movieId  9327 non-null   int64 \n",
            " 1   title    9327 non-null   object\n",
            " 2   genres   9327 non-null   object\n",
            " 3   year     9327 non-null   object\n",
            "dtypes: int64(1), object(3)\n",
            "memory usage: 291.6+ KB\n"
          ]
        }
      ],
      "source": [
        "#movies.info()"
      ]
    },
    {
      "cell_type": "code",
      "execution_count": 241,
      "metadata": {
        "colab": {
          "base_uri": "https://localhost:8080/"
        },
        "id": "EpGdj-wzuus3",
        "outputId": "e8e82863-920e-4907-cd2e-2ea2105a2fbf"
      },
      "outputs": [
        {
          "name": "stdout",
          "output_type": "stream",
          "text": [
            "<class 'pandas.core.frame.DataFrame'>\n",
            "RangeIndex: 8794 entries, 0 to 8793\n",
            "Data columns (total 6 columns):\n",
            " #   Column             Non-Null Count  Dtype  \n",
            "---  ------             --------------  -----  \n",
            " 0   movieId            8794 non-null   int64  \n",
            " 1   title              8794 non-null   object \n",
            " 2   genres             8794 non-null   object \n",
            " 3   year               8794 non-null   object \n",
            " 4   mean_rating        8794 non-null   float64\n",
            " 5   number_of_ratings  8794 non-null   int64  \n",
            "dtypes: float64(1), int64(2), object(3)\n",
            "memory usage: 412.3+ KB\n"
          ]
        }
      ],
      "source": [
        "#movies_rating.info()"
      ]
    },
    {
      "cell_type": "code",
      "execution_count": 242,
      "metadata": {
        "colab": {
          "base_uri": "https://localhost:8080/",
          "height": 206
        },
        "id": "TDhB7_g2stGi",
        "outputId": "d11f9421-1e48-4fd1-e9b0-34e8ba2c5cf7"
      },
      "outputs": [
        {
          "data": {
            "text/html": [
              "<div>\n",
              "<style scoped>\n",
              "    .dataframe tbody tr th:only-of-type {\n",
              "        vertical-align: middle;\n",
              "    }\n",
              "\n",
              "    .dataframe tbody tr th {\n",
              "        vertical-align: top;\n",
              "    }\n",
              "\n",
              "    .dataframe thead th {\n",
              "        text-align: right;\n",
              "    }\n",
              "</style>\n",
              "<table border=\"1\" class=\"dataframe\">\n",
              "  <thead>\n",
              "    <tr style=\"text-align: right;\">\n",
              "      <th></th>\n",
              "      <th>movieId</th>\n",
              "      <th>title</th>\n",
              "      <th>genres</th>\n",
              "      <th>year</th>\n",
              "      <th>mean_rating</th>\n",
              "      <th>number_of_ratings</th>\n",
              "    </tr>\n",
              "  </thead>\n",
              "  <tbody>\n",
              "    <tr>\n",
              "      <th>0</th>\n",
              "      <td>1</td>\n",
              "      <td>Toy Story (1995)</td>\n",
              "      <td>Adventure|Animation|Children|Comedy|Fantasy</td>\n",
              "      <td>1995</td>\n",
              "      <td>3.921240</td>\n",
              "      <td>49695</td>\n",
              "    </tr>\n",
              "    <tr>\n",
              "      <th>1</th>\n",
              "      <td>2</td>\n",
              "      <td>Jumanji (1995)</td>\n",
              "      <td>Adventure|Children|Fantasy</td>\n",
              "      <td>1995</td>\n",
              "      <td>3.211977</td>\n",
              "      <td>22243</td>\n",
              "    </tr>\n",
              "    <tr>\n",
              "      <th>2</th>\n",
              "      <td>3</td>\n",
              "      <td>Grumpier Old Men (1995)</td>\n",
              "      <td>Comedy|Romance</td>\n",
              "      <td>1995</td>\n",
              "      <td>3.151040</td>\n",
              "      <td>12735</td>\n",
              "    </tr>\n",
              "    <tr>\n",
              "      <th>3</th>\n",
              "      <td>4</td>\n",
              "      <td>Waiting to Exhale (1995)</td>\n",
              "      <td>Comedy|Drama|Romance</td>\n",
              "      <td>1995</td>\n",
              "      <td>2.861393</td>\n",
              "      <td>2756</td>\n",
              "    </tr>\n",
              "    <tr>\n",
              "      <th>4</th>\n",
              "      <td>5</td>\n",
              "      <td>Father of the Bride Part II (1995)</td>\n",
              "      <td>Comedy</td>\n",
              "      <td>1995</td>\n",
              "      <td>3.064592</td>\n",
              "      <td>12161</td>\n",
              "    </tr>\n",
              "  </tbody>\n",
              "</table>\n",
              "</div>"
            ],
            "text/plain": [
              "   movieId                               title  \\\n",
              "0        1                    Toy Story (1995)   \n",
              "1        2                      Jumanji (1995)   \n",
              "2        3             Grumpier Old Men (1995)   \n",
              "3        4            Waiting to Exhale (1995)   \n",
              "4        5  Father of the Bride Part II (1995)   \n",
              "\n",
              "                                        genres  year  mean_rating  \\\n",
              "0  Adventure|Animation|Children|Comedy|Fantasy  1995     3.921240   \n",
              "1                   Adventure|Children|Fantasy  1995     3.211977   \n",
              "2                               Comedy|Romance  1995     3.151040   \n",
              "3                         Comedy|Drama|Romance  1995     2.861393   \n",
              "4                                       Comedy  1995     3.064592   \n",
              "\n",
              "   number_of_ratings  \n",
              "0              49695  \n",
              "1              22243  \n",
              "2              12735  \n",
              "3               2756  \n",
              "4              12161  "
            ]
          },
          "execution_count": 242,
          "metadata": {},
          "output_type": "execute_result"
        }
      ],
      "source": [
        "#movies_rating.head()"
      ]
    },
    {
      "cell_type": "code",
      "execution_count": 243,
      "metadata": {
        "colab": {
          "base_uri": "https://localhost:8080/",
          "height": 206
        },
        "id": "Yb8c5Y4ysQXY",
        "outputId": "e4a9bc20-b8aa-4a3e-9a2b-16af9ff16be2"
      },
      "outputs": [
        {
          "data": {
            "text/html": [
              "<div>\n",
              "<style scoped>\n",
              "    .dataframe tbody tr th:only-of-type {\n",
              "        vertical-align: middle;\n",
              "    }\n",
              "\n",
              "    .dataframe tbody tr th {\n",
              "        vertical-align: top;\n",
              "    }\n",
              "\n",
              "    .dataframe thead th {\n",
              "        text-align: right;\n",
              "    }\n",
              "</style>\n",
              "<table border=\"1\" class=\"dataframe\">\n",
              "  <thead>\n",
              "    <tr style=\"text-align: right;\">\n",
              "      <th></th>\n",
              "      <th>movieId</th>\n",
              "      <th>title</th>\n",
              "      <th>year</th>\n",
              "      <th>mean_rating</th>\n",
              "      <th>number_of_ratings</th>\n",
              "    </tr>\n",
              "  </thead>\n",
              "  <tbody>\n",
              "    <tr>\n",
              "      <th>0</th>\n",
              "      <td>1</td>\n",
              "      <td>Toy Story (1995)</td>\n",
              "      <td>1995</td>\n",
              "      <td>3.921240</td>\n",
              "      <td>49695</td>\n",
              "    </tr>\n",
              "    <tr>\n",
              "      <th>1</th>\n",
              "      <td>2</td>\n",
              "      <td>Jumanji (1995)</td>\n",
              "      <td>1995</td>\n",
              "      <td>3.211977</td>\n",
              "      <td>22243</td>\n",
              "    </tr>\n",
              "    <tr>\n",
              "      <th>2</th>\n",
              "      <td>3</td>\n",
              "      <td>Grumpier Old Men (1995)</td>\n",
              "      <td>1995</td>\n",
              "      <td>3.151040</td>\n",
              "      <td>12735</td>\n",
              "    </tr>\n",
              "    <tr>\n",
              "      <th>3</th>\n",
              "      <td>4</td>\n",
              "      <td>Waiting to Exhale (1995)</td>\n",
              "      <td>1995</td>\n",
              "      <td>2.861393</td>\n",
              "      <td>2756</td>\n",
              "    </tr>\n",
              "    <tr>\n",
              "      <th>4</th>\n",
              "      <td>5</td>\n",
              "      <td>Father of the Bride Part II (1995)</td>\n",
              "      <td>1995</td>\n",
              "      <td>3.064592</td>\n",
              "      <td>12161</td>\n",
              "    </tr>\n",
              "  </tbody>\n",
              "</table>\n",
              "</div>"
            ],
            "text/plain": [
              "   movieId                               title  year  mean_rating  \\\n",
              "0        1                    Toy Story (1995)  1995     3.921240   \n",
              "1        2                      Jumanji (1995)  1995     3.211977   \n",
              "2        3             Grumpier Old Men (1995)  1995     3.151040   \n",
              "3        4            Waiting to Exhale (1995)  1995     2.861393   \n",
              "4        5  Father of the Bride Part II (1995)  1995     3.064592   \n",
              "\n",
              "   number_of_ratings  \n",
              "0              49695  \n",
              "1              22243  \n",
              "2              12735  \n",
              "3               2756  \n",
              "4              12161  "
            ]
          },
          "execution_count": 243,
          "metadata": {},
          "output_type": "execute_result"
        }
      ],
      "source": [
        "movies_rating.drop('genres', axis=1, inplace=True)\n",
        "#movies_rating.head()"
      ]
    },
    {
      "cell_type": "code",
      "execution_count": 244,
      "metadata": {
        "colab": {
          "base_uri": "https://localhost:8080/",
          "height": 206
        },
        "id": "xi8uWJiYvpEm",
        "outputId": "0ff774c7-faca-4c49-b3e7-0212eca157c2"
      },
      "outputs": [
        {
          "data": {
            "text/html": [
              "<div>\n",
              "<style scoped>\n",
              "    .dataframe tbody tr th:only-of-type {\n",
              "        vertical-align: middle;\n",
              "    }\n",
              "\n",
              "    .dataframe tbody tr th {\n",
              "        vertical-align: top;\n",
              "    }\n",
              "\n",
              "    .dataframe thead th {\n",
              "        text-align: right;\n",
              "    }\n",
              "</style>\n",
              "<table border=\"1\" class=\"dataframe\">\n",
              "  <thead>\n",
              "    <tr style=\"text-align: right;\">\n",
              "      <th></th>\n",
              "      <th>userId</th>\n",
              "      <th>movieId</th>\n",
              "      <th>rating</th>\n",
              "      <th>timestamp</th>\n",
              "    </tr>\n",
              "  </thead>\n",
              "  <tbody>\n",
              "    <tr>\n",
              "      <th>0</th>\n",
              "      <td>1</td>\n",
              "      <td>2</td>\n",
              "      <td>3.5</td>\n",
              "      <td>2005-04-02 23:53:47</td>\n",
              "    </tr>\n",
              "    <tr>\n",
              "      <th>1</th>\n",
              "      <td>1</td>\n",
              "      <td>29</td>\n",
              "      <td>3.5</td>\n",
              "      <td>2005-04-02 23:31:16</td>\n",
              "    </tr>\n",
              "    <tr>\n",
              "      <th>2</th>\n",
              "      <td>1</td>\n",
              "      <td>32</td>\n",
              "      <td>3.5</td>\n",
              "      <td>2005-04-02 23:33:39</td>\n",
              "    </tr>\n",
              "    <tr>\n",
              "      <th>3</th>\n",
              "      <td>1</td>\n",
              "      <td>47</td>\n",
              "      <td>3.5</td>\n",
              "      <td>2005-04-02 23:32:07</td>\n",
              "    </tr>\n",
              "    <tr>\n",
              "      <th>4</th>\n",
              "      <td>1</td>\n",
              "      <td>50</td>\n",
              "      <td>3.5</td>\n",
              "      <td>2005-04-02 23:29:40</td>\n",
              "    </tr>\n",
              "  </tbody>\n",
              "</table>\n",
              "</div>"
            ],
            "text/plain": [
              "   userId  movieId  rating            timestamp\n",
              "0       1        2     3.5  2005-04-02 23:53:47\n",
              "1       1       29     3.5  2005-04-02 23:31:16\n",
              "2       1       32     3.5  2005-04-02 23:33:39\n",
              "3       1       47     3.5  2005-04-02 23:32:07\n",
              "4       1       50     3.5  2005-04-02 23:29:40"
            ]
          },
          "execution_count": 244,
          "metadata": {},
          "output_type": "execute_result"
        }
      ],
      "source": [
        "#users_rating.head()"
      ]
    },
    {
      "cell_type": "code",
      "execution_count": 245,
      "metadata": {
        "colab": {
          "base_uri": "https://localhost:8080/",
          "height": 206
        },
        "id": "YHRQJeqpvt2W",
        "outputId": "1a26857a-f283-418f-8e9c-7e6489b18e36"
      },
      "outputs": [
        {
          "data": {
            "text/html": [
              "<div>\n",
              "<style scoped>\n",
              "    .dataframe tbody tr th:only-of-type {\n",
              "        vertical-align: middle;\n",
              "    }\n",
              "\n",
              "    .dataframe tbody tr th {\n",
              "        vertical-align: top;\n",
              "    }\n",
              "\n",
              "    .dataframe thead th {\n",
              "        text-align: right;\n",
              "    }\n",
              "</style>\n",
              "<table border=\"1\" class=\"dataframe\">\n",
              "  <thead>\n",
              "    <tr style=\"text-align: right;\">\n",
              "      <th></th>\n",
              "      <th>userId</th>\n",
              "      <th>movieId</th>\n",
              "      <th>rating</th>\n",
              "    </tr>\n",
              "  </thead>\n",
              "  <tbody>\n",
              "    <tr>\n",
              "      <th>0</th>\n",
              "      <td>1</td>\n",
              "      <td>2</td>\n",
              "      <td>3.5</td>\n",
              "    </tr>\n",
              "    <tr>\n",
              "      <th>1</th>\n",
              "      <td>1</td>\n",
              "      <td>29</td>\n",
              "      <td>3.5</td>\n",
              "    </tr>\n",
              "    <tr>\n",
              "      <th>2</th>\n",
              "      <td>1</td>\n",
              "      <td>32</td>\n",
              "      <td>3.5</td>\n",
              "    </tr>\n",
              "    <tr>\n",
              "      <th>3</th>\n",
              "      <td>1</td>\n",
              "      <td>47</td>\n",
              "      <td>3.5</td>\n",
              "    </tr>\n",
              "    <tr>\n",
              "      <th>4</th>\n",
              "      <td>1</td>\n",
              "      <td>50</td>\n",
              "      <td>3.5</td>\n",
              "    </tr>\n",
              "  </tbody>\n",
              "</table>\n",
              "</div>"
            ],
            "text/plain": [
              "   userId  movieId  rating\n",
              "0       1        2     3.5\n",
              "1       1       29     3.5\n",
              "2       1       32     3.5\n",
              "3       1       47     3.5\n",
              "4       1       50     3.5"
            ]
          },
          "execution_count": 245,
          "metadata": {},
          "output_type": "execute_result"
        }
      ],
      "source": [
        "users_rating.drop('timestamp', axis=1, inplace=True)\n",
        "#users_rating.head()"
      ]
    },
    {
      "cell_type": "code",
      "execution_count": 246,
      "metadata": {
        "id": "aor1WgSxFbzO"
      },
      "outputs": [],
      "source": [
        "movies_meta = pickle.load(open('../pickle/movies_meta.pkl','rb'))   \n",
        "\n",
        "#movies_meta.head(5)"
      ]
    },
    {
      "cell_type": "code",
      "execution_count": 247,
      "metadata": {},
      "outputs": [],
      "source": [
        "movies_meta['release_date'] = pd.to_datetime(movies_meta['release_date'], errors='coerce')\n",
        "movies_meta['year'] = movies_meta['release_date'].dt.year\n",
        "movies_meta['year'] = movies_meta['year'].fillna(0).astype(int).astype(str)\n",
        "\n",
        "pickle.dump(movies_meta,open('../pickle/movies_meta.pkl','wb'))"
      ]
    },
    {
      "cell_type": "code",
      "execution_count": 248,
      "metadata": {
        "id": "oPa81ZNQFuJA"
      },
      "outputs": [],
      "source": [
        "movies_rating['title'] = movies_rating['title'].apply(lambda x: re.sub(r'\\([^)]*\\)', '', x))"
      ]
    },
    {
      "cell_type": "code",
      "execution_count": 249,
      "metadata": {
        "id": "YZJd2PyYF1xh"
      },
      "outputs": [],
      "source": [
        "def closest_movie(movie, movies_list):\n",
        "    # Extract the year from the release date\n",
        "    year = movie['year']\n",
        "\n",
        "    # Check if the year is a valid numeric value\n",
        "    try:\n",
        "        year = int(year)\n",
        "    except ValueError:\n",
        "        # Handle the case where the year is not a valid numeric value\n",
        "        print(f\"Skipping movie '{movie['title']}' because the year '{year}' is not a valid numeric value.\")\n",
        "        return np.nan, np.nan\n",
        "\n",
        "    # Filter movies from df2 based on the year\n",
        "    movies_same_year = movies_list[movies_list['year'].astype(int) == year]\n",
        "\n",
        "    # If there are movies in the same year, perform fuzzy matching\n",
        "    if not movies_same_year.empty:\n",
        "        movie_titles = movies_same_year['title'].tolist()\n",
        "\n",
        "        closest_match = closest_title(movie['title'], movie_titles)\n",
        "\n",
        "        if closest_match is None:\n",
        "            return np.nan, np.nan\n",
        "\n",
        "        # Get the corresponding 'release_date' for the closest match\n",
        "        closest_match_info = movies_same_year.iloc[closest_match]\n",
        "        title = closest_match_info['title']\n",
        "        movie_id = closest_match_info['id']\n",
        "\n",
        "        # Drop movie after it is found\n",
        "        movie_index = movies_list[(movies_list['id'] == movie_id)].index\n",
        "        movies_list.drop(movie_index, inplace=True)\n",
        "        movies_list.reset_index(drop=True, inplace=True)\n",
        "\n",
        "        return str(movie_id), title\n",
        "    else:\n",
        "        return np.nan, np.nan\n",
        "\n",
        "\n",
        "def closest_title(query, choices):\n",
        "    # Preprocess the strings\n",
        "    query = preprocess_string(query)\n",
        "    choices = [preprocess_string(choice) for choice in choices]\n",
        "\n",
        "    # Use process.extractOne to find the best match\n",
        "    match, score = process.extractOne(query, choices, scorer=fuzz.token_sort_ratio)\n",
        "\n",
        "    return choices.index(match) if score >= 80 else None\n",
        "\n",
        "# Function to preprocess strings before matching\n",
        "def preprocess_string(s):\n",
        "    # Check if s is a string\n",
        "    if isinstance(s, str):\n",
        "        # Remove non-alphanumeric characters\n",
        "        s = ''.join(char for char in s if char.isalnum() or char.isspace())\n",
        "        return s.strip()\n",
        "    else:\n",
        "        # If s is not a string (e.g., NaN), return an empty string or handle it accordingly\n",
        "        return ''\n"
      ]
    },
    {
      "cell_type": "code",
      "execution_count": 250,
      "metadata": {
        "id": "7pN5g-eTHDUB"
      },
      "outputs": [
        {
          "data": {
            "text/html": [
              "<div>\n",
              "<style scoped>\n",
              "    .dataframe tbody tr th:only-of-type {\n",
              "        vertical-align: middle;\n",
              "    }\n",
              "\n",
              "    .dataframe tbody tr th {\n",
              "        vertical-align: top;\n",
              "    }\n",
              "\n",
              "    .dataframe thead th {\n",
              "        text-align: right;\n",
              "    }\n",
              "</style>\n",
              "<table border=\"1\" class=\"dataframe\">\n",
              "  <thead>\n",
              "    <tr style=\"text-align: right;\">\n",
              "      <th></th>\n",
              "      <th>movieId</th>\n",
              "      <th>title</th>\n",
              "      <th>year</th>\n",
              "      <th>mean_rating</th>\n",
              "      <th>number_of_ratings</th>\n",
              "      <th>id</th>\n",
              "    </tr>\n",
              "  </thead>\n",
              "  <tbody>\n",
              "    <tr>\n",
              "      <th>0</th>\n",
              "      <td>1</td>\n",
              "      <td>Toy Story</td>\n",
              "      <td>1995</td>\n",
              "      <td>3.921240</td>\n",
              "      <td>49695</td>\n",
              "      <td>862</td>\n",
              "    </tr>\n",
              "    <tr>\n",
              "      <th>1</th>\n",
              "      <td>2</td>\n",
              "      <td>Jumanji</td>\n",
              "      <td>1995</td>\n",
              "      <td>3.211977</td>\n",
              "      <td>22243</td>\n",
              "      <td>8844</td>\n",
              "    </tr>\n",
              "    <tr>\n",
              "      <th>2</th>\n",
              "      <td>3</td>\n",
              "      <td>Grumpier Old Men</td>\n",
              "      <td>1995</td>\n",
              "      <td>3.151040</td>\n",
              "      <td>12735</td>\n",
              "      <td>15602</td>\n",
              "    </tr>\n",
              "    <tr>\n",
              "      <th>3</th>\n",
              "      <td>4</td>\n",
              "      <td>NaN</td>\n",
              "      <td>1995</td>\n",
              "      <td>2.861393</td>\n",
              "      <td>2756</td>\n",
              "      <td>NaN</td>\n",
              "    </tr>\n",
              "    <tr>\n",
              "      <th>4</th>\n",
              "      <td>5</td>\n",
              "      <td>Father of the Bride Part II</td>\n",
              "      <td>1995</td>\n",
              "      <td>3.064592</td>\n",
              "      <td>12161</td>\n",
              "      <td>11862</td>\n",
              "    </tr>\n",
              "  </tbody>\n",
              "</table>\n",
              "</div>"
            ],
            "text/plain": [
              "   movieId                        title  year  mean_rating  number_of_ratings  \\\n",
              "0        1                    Toy Story  1995     3.921240              49695   \n",
              "1        2                      Jumanji  1995     3.211977              22243   \n",
              "2        3             Grumpier Old Men  1995     3.151040              12735   \n",
              "3        4                          NaN  1995     2.861393               2756   \n",
              "4        5  Father of the Bride Part II  1995     3.064592              12161   \n",
              "\n",
              "      id  \n",
              "0    862  \n",
              "1   8844  \n",
              "2  15602  \n",
              "3    NaN  \n",
              "4  11862  "
            ]
          },
          "execution_count": 250,
          "metadata": {},
          "output_type": "execute_result"
        }
      ],
      "source": [
        "print(\"Running... (may take a couple of minutes)\")\n",
        "\n",
        "movies_rating[['id', 'title']] = movies_rating.apply(lambda x: pd.Series(closest_movie(x, movies_meta)), axis=1)\n",
        "\n",
        "#movies_rating.head(5)"
      ]
    },
    {
      "cell_type": "code",
      "execution_count": 251,
      "metadata": {
        "colab": {
          "base_uri": "https://localhost:8080/"
        },
        "id": "jHzHpMkSIOWW",
        "outputId": "b1440970-759b-4824-fe3b-f379ceb8d387"
      },
      "outputs": [
        {
          "data": {
            "text/plain": [
              "movieId                 0\n",
              "title                3086\n",
              "year                    0\n",
              "mean_rating             0\n",
              "number_of_ratings       0\n",
              "id                   3086\n",
              "dtype: int64"
            ]
          },
          "execution_count": 251,
          "metadata": {},
          "output_type": "execute_result"
        }
      ],
      "source": [
        "#movies_rating.isnull().sum()"
      ]
    },
    {
      "cell_type": "code",
      "execution_count": 252,
      "metadata": {
        "id": "6-r7PgqeHdDx"
      },
      "outputs": [],
      "source": [
        "null_id = movies_rating[movies_rating['id'].isnull()]['movieId'].tolist()\n",
        "null_index = movies_rating[movies_rating['movieId'].isin(null_id)].index\n",
        "user_index = users_rating[users_rating['movieId'].isin(null_id)].index\n",
        "\n",
        "movies_rating.drop(null_index, inplace=True)\n",
        "users_rating.drop(user_index, inplace=True)\n",
        "\n",
        "movies_rating.reset_index(drop=True, inplace=True)\n",
        "users_rating.reset_index(drop=True, inplace=True)"
      ]
    },
    {
      "cell_type": "code",
      "execution_count": 253,
      "metadata": {
        "colab": {
          "base_uri": "https://localhost:8080/"
        },
        "id": "t62yRu6UIVjF",
        "outputId": "5669743f-ecbb-4d90-92ac-9708bf7c56e6"
      },
      "outputs": [
        {
          "data": {
            "text/plain": [
              "movieId              0\n",
              "title                0\n",
              "year                 0\n",
              "mean_rating          0\n",
              "number_of_ratings    0\n",
              "id                   0\n",
              "dtype: int64"
            ]
          },
          "execution_count": 253,
          "metadata": {},
          "output_type": "execute_result"
        }
      ],
      "source": [
        "#movies_rating.isnull().sum()"
      ]
    },
    {
      "cell_type": "code",
      "execution_count": 254,
      "metadata": {
        "colab": {
          "base_uri": "https://localhost:8080/",
          "height": 247
        },
        "id": "lTydBMwZVA-a",
        "outputId": "77a17a83-6a89-43f3-fa2e-90565dfc9277"
      },
      "outputs": [
        {
          "data": {
            "text/html": [
              "<div>\n",
              "<style scoped>\n",
              "    .dataframe tbody tr th:only-of-type {\n",
              "        vertical-align: middle;\n",
              "    }\n",
              "\n",
              "    .dataframe tbody tr th {\n",
              "        vertical-align: top;\n",
              "    }\n",
              "\n",
              "    .dataframe thead th {\n",
              "        text-align: right;\n",
              "    }\n",
              "</style>\n",
              "<table border=\"1\" class=\"dataframe\">\n",
              "  <thead>\n",
              "    <tr style=\"text-align: right;\">\n",
              "      <th></th>\n",
              "      <th>movieId</th>\n",
              "      <th>title</th>\n",
              "      <th>year</th>\n",
              "      <th>mean_rating</th>\n",
              "      <th>number_of_ratings</th>\n",
              "      <th>id</th>\n",
              "    </tr>\n",
              "  </thead>\n",
              "  <tbody>\n",
              "    <tr>\n",
              "      <th>0</th>\n",
              "      <td>1</td>\n",
              "      <td>Toy Story</td>\n",
              "      <td>1995</td>\n",
              "      <td>3.921240</td>\n",
              "      <td>49695</td>\n",
              "      <td>862</td>\n",
              "    </tr>\n",
              "    <tr>\n",
              "      <th>1</th>\n",
              "      <td>2</td>\n",
              "      <td>Jumanji</td>\n",
              "      <td>1995</td>\n",
              "      <td>3.211977</td>\n",
              "      <td>22243</td>\n",
              "      <td>8844</td>\n",
              "    </tr>\n",
              "    <tr>\n",
              "      <th>2</th>\n",
              "      <td>3</td>\n",
              "      <td>Grumpier Old Men</td>\n",
              "      <td>1995</td>\n",
              "      <td>3.151040</td>\n",
              "      <td>12735</td>\n",
              "      <td>15602</td>\n",
              "    </tr>\n",
              "    <tr>\n",
              "      <th>3</th>\n",
              "      <td>5</td>\n",
              "      <td>Father of the Bride Part II</td>\n",
              "      <td>1995</td>\n",
              "      <td>3.064592</td>\n",
              "      <td>12161</td>\n",
              "      <td>11862</td>\n",
              "    </tr>\n",
              "    <tr>\n",
              "      <th>4</th>\n",
              "      <td>6</td>\n",
              "      <td>Heat</td>\n",
              "      <td>1995</td>\n",
              "      <td>3.834930</td>\n",
              "      <td>23899</td>\n",
              "      <td>949</td>\n",
              "    </tr>\n",
              "  </tbody>\n",
              "</table>\n",
              "</div>"
            ],
            "text/plain": [
              "   movieId                        title  year  mean_rating  number_of_ratings  \\\n",
              "0        1                    Toy Story  1995     3.921240              49695   \n",
              "1        2                      Jumanji  1995     3.211977              22243   \n",
              "2        3             Grumpier Old Men  1995     3.151040              12735   \n",
              "3        5  Father of the Bride Part II  1995     3.064592              12161   \n",
              "4        6                         Heat  1995     3.834930              23899   \n",
              "\n",
              "      id  \n",
              "0    862  \n",
              "1   8844  \n",
              "2  15602  \n",
              "3  11862  \n",
              "4    949  "
            ]
          },
          "execution_count": 254,
          "metadata": {},
          "output_type": "execute_result"
        }
      ],
      "source": [
        "#movies_rating.head()"
      ]
    },
    {
      "cell_type": "code",
      "execution_count": 255,
      "metadata": {},
      "outputs": [
        {
          "data": {
            "text/html": [
              "<div>\n",
              "<style scoped>\n",
              "    .dataframe tbody tr th:only-of-type {\n",
              "        vertical-align: middle;\n",
              "    }\n",
              "\n",
              "    .dataframe tbody tr th {\n",
              "        vertical-align: top;\n",
              "    }\n",
              "\n",
              "    .dataframe thead th {\n",
              "        text-align: right;\n",
              "    }\n",
              "</style>\n",
              "<table border=\"1\" class=\"dataframe\">\n",
              "  <thead>\n",
              "    <tr style=\"text-align: right;\">\n",
              "      <th></th>\n",
              "      <th>userId</th>\n",
              "      <th>movieId</th>\n",
              "      <th>rating</th>\n",
              "    </tr>\n",
              "  </thead>\n",
              "  <tbody>\n",
              "    <tr>\n",
              "      <th>0</th>\n",
              "      <td>1</td>\n",
              "      <td>2</td>\n",
              "      <td>3.5</td>\n",
              "    </tr>\n",
              "    <tr>\n",
              "      <th>1</th>\n",
              "      <td>1</td>\n",
              "      <td>29</td>\n",
              "      <td>3.5</td>\n",
              "    </tr>\n",
              "    <tr>\n",
              "      <th>2</th>\n",
              "      <td>1</td>\n",
              "      <td>32</td>\n",
              "      <td>3.5</td>\n",
              "    </tr>\n",
              "    <tr>\n",
              "      <th>3</th>\n",
              "      <td>1</td>\n",
              "      <td>47</td>\n",
              "      <td>3.5</td>\n",
              "    </tr>\n",
              "    <tr>\n",
              "      <th>4</th>\n",
              "      <td>1</td>\n",
              "      <td>50</td>\n",
              "      <td>3.5</td>\n",
              "    </tr>\n",
              "  </tbody>\n",
              "</table>\n",
              "</div>"
            ],
            "text/plain": [
              "   userId  movieId  rating\n",
              "0       1        2     3.5\n",
              "1       1       29     3.5\n",
              "2       1       32     3.5\n",
              "3       1       47     3.5\n",
              "4       1       50     3.5"
            ]
          },
          "execution_count": 255,
          "metadata": {},
          "output_type": "execute_result"
        }
      ],
      "source": [
        "#users_rating.head()"
      ]
    },
    {
      "cell_type": "code",
      "execution_count": 256,
      "metadata": {},
      "outputs": [],
      "source": [
        "movies_rating.drop(['mean_rating', 'number_of_ratings'], axis=1, inplace=True)\n",
        "\n",
        "new_users_rating = pd.merge(users_rating, movies_rating, on='movieId', how='inner')\n",
        "\n",
        "movies_rating.drop(['movieId'],  axis=1, inplace=True)\n",
        "\n",
        "new_users_rating.drop(['movieId', 'title', 'year'],  axis=1, inplace=True)"
      ]
    },
    {
      "cell_type": "code",
      "execution_count": 257,
      "metadata": {},
      "outputs": [
        {
          "data": {
            "text/html": [
              "<div>\n",
              "<style scoped>\n",
              "    .dataframe tbody tr th:only-of-type {\n",
              "        vertical-align: middle;\n",
              "    }\n",
              "\n",
              "    .dataframe tbody tr th {\n",
              "        vertical-align: top;\n",
              "    }\n",
              "\n",
              "    .dataframe thead th {\n",
              "        text-align: right;\n",
              "    }\n",
              "</style>\n",
              "<table border=\"1\" class=\"dataframe\">\n",
              "  <thead>\n",
              "    <tr style=\"text-align: right;\">\n",
              "      <th></th>\n",
              "      <th>title</th>\n",
              "      <th>year</th>\n",
              "      <th>id</th>\n",
              "    </tr>\n",
              "  </thead>\n",
              "  <tbody>\n",
              "    <tr>\n",
              "      <th>0</th>\n",
              "      <td>Toy Story</td>\n",
              "      <td>1995</td>\n",
              "      <td>862</td>\n",
              "    </tr>\n",
              "    <tr>\n",
              "      <th>1</th>\n",
              "      <td>Jumanji</td>\n",
              "      <td>1995</td>\n",
              "      <td>8844</td>\n",
              "    </tr>\n",
              "    <tr>\n",
              "      <th>2</th>\n",
              "      <td>Grumpier Old Men</td>\n",
              "      <td>1995</td>\n",
              "      <td>15602</td>\n",
              "    </tr>\n",
              "    <tr>\n",
              "      <th>3</th>\n",
              "      <td>Father of the Bride Part II</td>\n",
              "      <td>1995</td>\n",
              "      <td>11862</td>\n",
              "    </tr>\n",
              "    <tr>\n",
              "      <th>4</th>\n",
              "      <td>Heat</td>\n",
              "      <td>1995</td>\n",
              "      <td>949</td>\n",
              "    </tr>\n",
              "  </tbody>\n",
              "</table>\n",
              "</div>"
            ],
            "text/plain": [
              "                         title  year     id\n",
              "0                    Toy Story  1995    862\n",
              "1                      Jumanji  1995   8844\n",
              "2             Grumpier Old Men  1995  15602\n",
              "3  Father of the Bride Part II  1995  11862\n",
              "4                         Heat  1995    949"
            ]
          },
          "execution_count": 257,
          "metadata": {},
          "output_type": "execute_result"
        }
      ],
      "source": [
        "#movies_rating.head()"
      ]
    },
    {
      "cell_type": "code",
      "execution_count": 258,
      "metadata": {},
      "outputs": [
        {
          "data": {
            "text/html": [
              "<div>\n",
              "<style scoped>\n",
              "    .dataframe tbody tr th:only-of-type {\n",
              "        vertical-align: middle;\n",
              "    }\n",
              "\n",
              "    .dataframe tbody tr th {\n",
              "        vertical-align: top;\n",
              "    }\n",
              "\n",
              "    .dataframe thead th {\n",
              "        text-align: right;\n",
              "    }\n",
              "</style>\n",
              "<table border=\"1\" class=\"dataframe\">\n",
              "  <thead>\n",
              "    <tr style=\"text-align: right;\">\n",
              "      <th></th>\n",
              "      <th>userId</th>\n",
              "      <th>rating</th>\n",
              "      <th>id</th>\n",
              "    </tr>\n",
              "  </thead>\n",
              "  <tbody>\n",
              "    <tr>\n",
              "      <th>0</th>\n",
              "      <td>1</td>\n",
              "      <td>3.5</td>\n",
              "      <td>8844</td>\n",
              "    </tr>\n",
              "    <tr>\n",
              "      <th>1</th>\n",
              "      <td>5</td>\n",
              "      <td>3.0</td>\n",
              "      <td>8844</td>\n",
              "    </tr>\n",
              "    <tr>\n",
              "      <th>2</th>\n",
              "      <td>13</td>\n",
              "      <td>3.0</td>\n",
              "      <td>8844</td>\n",
              "    </tr>\n",
              "    <tr>\n",
              "      <th>3</th>\n",
              "      <td>29</td>\n",
              "      <td>3.0</td>\n",
              "      <td>8844</td>\n",
              "    </tr>\n",
              "    <tr>\n",
              "      <th>4</th>\n",
              "      <td>34</td>\n",
              "      <td>3.0</td>\n",
              "      <td>8844</td>\n",
              "    </tr>\n",
              "  </tbody>\n",
              "</table>\n",
              "</div>"
            ],
            "text/plain": [
              "   userId  rating    id\n",
              "0       1     3.5  8844\n",
              "1       5     3.0  8844\n",
              "2      13     3.0  8844\n",
              "3      29     3.0  8844\n",
              "4      34     3.0  8844"
            ]
          },
          "execution_count": 258,
          "metadata": {},
          "output_type": "execute_result"
        }
      ],
      "source": [
        "#new_users_rating.head() "
      ]
    },
    {
      "cell_type": "code",
      "execution_count": 259,
      "metadata": {
        "id": "QE2nK8RQrZPw"
      },
      "outputs": [],
      "source": [
        "pickle.dump(movies_rating,open('../pickle/movies_rating.pkl','wb'))\n",
        "pickle.dump(new_users_rating,open('../pickle/users_rating.pkl','wb'))\n",
        "\n",
        "print(\"Done\")"
      ]
    }
  ],
  "metadata": {
    "colab": {
      "provenance": []
    },
    "kernelspec": {
      "display_name": "Python 3",
      "language": "python",
      "name": "python3"
    },
    "language_info": {
      "codemirror_mode": {
        "name": "ipython",
        "version": 3
      },
      "file_extension": ".py",
      "mimetype": "text/x-python",
      "name": "python",
      "nbconvert_exporter": "python",
      "pygments_lexer": "ipython3",
      "version": "3.11.9"
    }
  },
  "nbformat": 4,
  "nbformat_minor": 0
}
